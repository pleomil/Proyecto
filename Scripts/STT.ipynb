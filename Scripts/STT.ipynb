{
 "cells": [
  {
   "cell_type": "markdown",
   "metadata": {
    "id": "35RB38N6APcD"
   },
   "source": [
    "**TRANSCRIPCIÓN DE VOZ A TEXTO**"
   ]
  },
  {
   "cell_type": "markdown",
   "metadata": {
    "id": "BHJ7u5QsOJcD"
   },
   "source": [
    "Instalacion de dependencias e importación de librerías"
   ]
  },
  {
   "cell_type": "code",
   "execution_count": null,
   "metadata": {},
   "outputs": [],
   "source": [
    "#!pip install openai-whisper pydub ffmpeg jiwer google-cloud-speech matplotlib nltk --no-cache-dir"
   ]
  },
  {
   "cell_type": "code",
   "execution_count": 101,
   "metadata": {
    "colab": {
     "base_uri": "https://localhost:8080/",
     "height": 1000
    },
    "collapsed": true,
    "executionInfo": {
     "elapsed": 130031,
     "status": "ok",
     "timestamp": 1741071869080,
     "user": {
      "displayName": "Javier Aguiar",
      "userId": "08534155508978261286"
     },
     "user_tz": -60
    },
    "id": "jxxAvpmA_rWM",
    "outputId": "856b40a2-ebec-44e0-fc40-a9195689ecd3"
   },
   "outputs": [
    {
     "name": "stderr",
     "output_type": "stream",
     "text": [
      "C:\\Users\\Pedro\\AppData\\Local\\Temp\\ipykernel_15188\\3194268612.py:16: DeprecationWarning: Importing display from IPython.core.display is deprecated since IPython 7.14, please import from IPython.display\n",
      "  from IPython.core.display import display, HTML\n"
     ]
    }
   ],
   "source": [
    "# Instalación de dependencias\n",
    "\n",
    "# Importar librerías necesarias\n",
    "import whisper\n",
    "import os\n",
    "import json\n",
    "import matplotlib.pyplot as plt\n",
    "import numpy as np\n",
    "import difflib\n",
    "import nltk\n",
    "from nltk.corpus import stopwords\n",
    "from nltk.tokenize import word_tokenize\n",
    "#from google.colab import files\n",
    "from jiwer import wer, cer, wil\n",
    "from google.cloud import speech\n",
    "from IPython.core.display import display, HTML\n",
    "import pandas as pd\n",
    "import librosa\n",
    "from tqdm import tqdm"
   ]
  },
  {
   "cell_type": "markdown",
   "metadata": {
    "id": "qbunIQn3ONpm"
   },
   "source": [
    "Descargar stopwords de NLTK"
   ]
  },
  {
   "cell_type": "code",
   "execution_count": 109,
   "metadata": {
    "colab": {
     "base_uri": "https://localhost:8080/"
    },
    "collapsed": true,
    "executionInfo": {
     "elapsed": 901,
     "status": "ok",
     "timestamp": 1741071874105,
     "user": {
      "displayName": "Javier Aguiar",
      "userId": "08534155508978261286"
     },
     "user_tz": -60
    },
    "id": "wtnYJEc_OkxL",
    "outputId": "b6453738-2d12-442d-bca1-fa932429f533"
   },
   "outputs": [
    {
     "name": "stderr",
     "output_type": "stream",
     "text": [
      "[nltk_data] Downloading package stopwords to\n",
      "[nltk_data]     C:\\Users\\Pedro\\AppData\\Roaming\\nltk_data...\n",
      "[nltk_data]   Unzipping corpora\\stopwords.zip.\n",
      "[nltk_data] Downloading package punkt to\n",
      "[nltk_data]     C:\\Users\\Pedro\\AppData\\Roaming\\nltk_data...\n",
      "[nltk_data]   Unzipping tokenizers\\punkt.zip.\n"
     ]
    }
   ],
   "source": [
    "nltk.download('stopwords')\n",
    "nltk.download('punkt')\n",
    "spanish_stopwords = set(stopwords.words('spanish'))"
   ]
  },
  {
   "cell_type": "markdown",
   "metadata": {
    "id": "qhPuRll0qr9S"
   },
   "source": [
    "Preprocesamiento del texto"
   ]
  },
  {
   "cell_type": "code",
   "execution_count": 3,
   "metadata": {
    "executionInfo": {
     "elapsed": 6,
     "status": "ok",
     "timestamp": 1741071878635,
     "user": {
      "displayName": "Javier Aguiar",
      "userId": "08534155508978261286"
     },
     "user_tz": -60
    },
    "id": "LlWmub_6qu_-"
   },
   "outputs": [],
   "source": [
    "def preprocess_text(text, apply_preprocessing):\n",
    "    \"\"\"Preprocesa el texto eliminando stopwords y normalizando mayúsculas/minúsculas si el usuario lo desea.\"\"\"\n",
    "    if apply_preprocessing:\n",
    "        text = text.lower()\n",
    "        words = word_tokenize(text)\n",
    "        filtered_words = [word for word in words if word.isalnum() and word not in spanish_stopwords]\n",
    "        return \" \".join(filtered_words)\n",
    "    return text"
   ]
  },
  {
   "cell_type": "markdown",
   "metadata": {
    "id": "Paz2btbovdiw"
   },
   "source": [
    "Permitir al usuario elegir si quiere preprocesar el texto"
   ]
  },
  {
   "cell_type": "code",
   "execution_count": 4,
   "metadata": {
    "colab": {
     "base_uri": "https://localhost:8080/"
    },
    "executionInfo": {
     "elapsed": 2442,
     "status": "ok",
     "timestamp": 1741071889972,
     "user": {
      "displayName": "Javier Aguiar",
      "userId": "08534155508978261286"
     },
     "user_tz": -60
    },
    "id": "Gs1tqq4Lq3Ee",
    "outputId": "5e9fd856-ab84-46fa-fdd4-b5f06ba6f35c"
   },
   "outputs": [],
   "source": [
    "apply_preprocessing = input(\"¿Deseas aplicar preprocesamiento (stopwords, minúsculas, etc.)? (sí/no): \").strip().lower() == \"sí\""
   ]
  },
  {
   "cell_type": "markdown",
   "metadata": {
    "id": "CpZqnq-kvVQN"
   },
   "source": [
    "Cargar un archivo de audio"
   ]
  },
  {
   "cell_type": "code",
   "execution_count": 66,
   "metadata": {},
   "outputs": [],
   "source": [
    "dataset_sp = pd.read_csv(r'F:\\common_voice\\Proyecto\\audios\\es\\validated.tsv', sep ='\\t')[['path','sentence']]"
   ]
  },
  {
   "cell_type": "code",
   "execution_count": 69,
   "metadata": {},
   "outputs": [],
   "source": [
    "dataset_sp['path_todo'] = dataset_sp['path'].map(lambda x: os.path.join(r'F:\\common_voice\\Proyecto\\audios\\es\\clips',x))"
   ]
  },
  {
   "cell_type": "code",
   "execution_count": 74,
   "metadata": {},
   "outputs": [],
   "source": [
    "dataset_sp['is_in'] = [os.path.isfile(os.path.join(r'F:\\common_voice\\Proyecto\\audios\\es\\clips',i)) for i in dataset_sp['path']]"
   ]
  },
  {
   "cell_type": "code",
   "execution_count": null,
   "metadata": {},
   "outputs": [],
   "source": [
    "dataset_transc = dataset_sp[dataset_sp['is_in'] == True].sample(1000)\n",
    "dataset_transc['path_todo'] = [os.path.join(r'F:\\common_voice\\Proyecto\\audios\\es\\clips',i) for i in dataset_transc['path']]\n",
    "dataset_transc['path'] = dataset_transc['path_todo']\n",
    "dataset_transc = dataset_transc[['path','sentence']]"
   ]
  },
  {
   "cell_type": "markdown",
   "metadata": {
    "id": "oLYez_sOv-G_"
   },
   "source": [
    "Cargar un archivo con el ground truth"
   ]
  },
  {
   "cell_type": "markdown",
   "metadata": {
    "id": "qJtNOY_3wiGB"
   },
   "source": [
    "Transcripciones"
   ]
  },
  {
   "cell_type": "code",
   "execution_count": 123,
   "metadata": {
    "executionInfo": {
     "elapsed": 5,
     "status": "ok",
     "timestamp": 1741072035692,
     "user": {
      "displayName": "Javier Aguiar",
      "userId": "08534155508978261286"
     },
     "user_tz": -60
    },
    "id": "s9-nMcWEwj9g"
   },
   "outputs": [],
   "source": [
    "def evaluate_transcription(reference, hypothesis):\n",
    "    \"\"\"Calcula métricas de comparación entre transcripción y ground truth.\"\"\"\n",
    "    reference = preprocess_text(reference, apply_preprocessing)\n",
    "    hypothesis = preprocess_text(hypothesis, apply_preprocessing)\n",
    "    error_rates = {\n",
    "        \"WER\": wer(reference, hypothesis),\n",
    "        \"CER\": cer(reference, hypothesis),\n",
    "        \"WIL\": wil(reference, hypothesis)\n",
    "    }\n",
    "    return error_rates\n",
    "\n",
    "def highlight_differences(reference, hypothesis):\n",
    "    \"\"\"Resalta diferencias entre el texto original y la transcripción.\"\"\"\n",
    "    reference = preprocess_text(reference, apply_preprocessing)\n",
    "    hypothesis = preprocess_text(hypothesis, apply_preprocessing)\n",
    "    diff = difflib.ndiff(reference.split(), hypothesis.split())\n",
    "    highlighted_text = \" \".join([f\"<span style='color:red'>{word}</span>\" if word.startswith('-') else\n",
    "                                  f\"<span style='color:green'>{word}</span>\" if word.startswith('+') else word[2:]\n",
    "                                  for word in diff])\n",
    "    return highlighted_text\n",
    "\n",
    "# Transcripciones\n",
    "transcriptions = {}"
   ]
  },
  {
   "cell_type": "markdown",
   "metadata": {
    "id": "RsofT7gTwn_N"
   },
   "source": [
    "Probar modelos seleccionados"
   ]
  },
  {
   "cell_type": "code",
   "execution_count": 124,
   "metadata": {},
   "outputs": [],
   "source": [
    "model = whisper.load_model('medium')"
   ]
  },
  {
   "cell_type": "code",
   "execution_count": 104,
   "metadata": {},
   "outputs": [],
   "source": [
    "def transcribe_batch(dataframe):\n",
    "    transcripciones = []\n",
    "    ground_truths = [i for i in dataframe['sentence']]\n",
    "    for i in tqdm(dataframe['path']):\n",
    "        audio_file,_ = librosa.load(i,sr = 16000)\n",
    "        result = model.transcribe(audio_file, language = 'es')\n",
    "        transcripciones.append(result[\"text\"])\n",
    "        #print(result['text'])\n",
    "    \n",
    "    return transcripciones, ground_truths"
   ]
  },
  {
   "cell_type": "code",
   "execution_count": 105,
   "metadata": {},
   "outputs": [
    {
     "name": "stderr",
     "output_type": "stream",
     "text": [
      "100%|██████████| 200/200 [01:45<00:00,  1.90it/s]\n"
     ]
    }
   ],
   "source": [
    "transc,ground_truth = transcribe_batch(dataset_transc.sample(200))"
   ]
  },
  {
   "cell_type": "markdown",
   "metadata": {
    "id": "fbO7kBORw1hx"
   },
   "source": [
    "Comparar con el ground truth si está disponible"
   ]
  },
  {
   "cell_type": "code",
   "execution_count": 107,
   "metadata": {},
   "outputs": [
    {
     "name": "stderr",
     "output_type": "stream",
     "text": [
      "[nltk_data] Downloading package punkt_tab to\n",
      "[nltk_data]     C:\\Users\\Pedro\\AppData\\Roaming\\nltk_data...\n",
      "[nltk_data]   Unzipping tokenizers\\punkt_tab.zip.\n"
     ]
    },
    {
     "data": {
      "text/plain": [
       "True"
      ]
     },
     "execution_count": 107,
     "metadata": {},
     "output_type": "execute_result"
    }
   ],
   "source": [
    "import nltk\n",
    "nltk.download('punkt_tab')"
   ]
  },
  {
   "cell_type": "code",
   "execution_count": 120,
   "metadata": {},
   "outputs": [],
   "source": [
    "wer_scores = []\n",
    "cer_scores = []\n",
    "wil_scores = []\n",
    "\n",
    "\n",
    "for i in zip(transc,ground_truth):\n",
    "    try:\n",
    "        metrics = evaluate_transcription(i[1].strip(), i[0].strip())\n",
    "\n",
    "        wer_scores.append(metrics[\"WER\"])\n",
    "        cer_scores.append(metrics[\"CER\"])\n",
    "        wil_scores.append(metrics[\"WIL\"])\n",
    "    except:\n",
    "        pass"
   ]
  },
  {
   "cell_type": "code",
   "execution_count": 121,
   "metadata": {},
   "outputs": [],
   "source": [
    "wer_mean = sum(wer_scores)/len(wer_scores)\n",
    "cer_mean = sum(cer_scores)/len(cer_scores)\n",
    "wil_mean = sum(wil_scores)/len(wil_scores)"
   ]
  },
  {
   "cell_type": "code",
   "execution_count": 122,
   "metadata": {},
   "outputs": [
    {
     "data": {
      "image/png": "[encoded data removed]",
      "text/plain": [
       "<Figure size 600x400 with 1 Axes>"
      ]
     },
     "metadata": {},
     "output_type": "display_data"
    }
   ],
   "source": [
    "# Nombres y valores de las métricas\n",
    "metrics = [\"WER\", \"CER\", \"WIL\"]\n",
    "values = [wer_mean, cer_mean, wil_mean]\n",
    "\n",
    "# Crear el gráfico de barras\n",
    "plt.figure(figsize=(6, 4))\n",
    "plt.bar(metrics, values, color=[\"blue\", \"green\", \"red\"])\n",
    "\n",
    "# Etiquetas y título\n",
    "plt.ylabel(\"Error (%)\")\n",
    "plt.title(\"Métricas de evaluación de transcripción\")\n",
    "plt.ylim(0, 1)  # Límite entre 0 y 100% (1 equivale a 100%)\n",
    "\n",
    "# Agregar valores encima de cada barra\n",
    "for i, v in enumerate(values):\n",
    "    plt.text(i, v + 0.02, f\"{v:.2%}\", ha=\"center\", fontsize=12)\n",
    "\n",
    "plt.show()"
   ]
  },
  {
   "cell_type": "code",
   "execution_count": 136,
   "metadata": {},
   "outputs": [
    {
     "data": {
      "image/png": "[encoded data removed]",
      "text/plain": [
       "<Figure size 800x500 with 1 Axes>"
      ]
     },
     "metadata": {},
     "output_type": "display_data"
    }
   ],
   "source": [
    "import matplotlib.pyplot as plt\n",
    "import numpy as np\n",
    "\n",
    "# Valores para las barras\n",
    "bar_values = [0.98, 0.57, 0.85]  # Los valores de las barras en porcentaje (98%, 57%, 85%)\n",
    "bar_labels = ['Voz-Ruido', 'Clasificación Idioma', 'Speech-to-Text']\n",
    "\n",
    "# Valores para la línea\n",
    "line_values = [0.98, 0.5586, 0.4748]  # Los valores de la línea en porcentaje (98%, 55.86%, 47.48%)\n",
    "\n",
    "# Crear gráfico de barras\n",
    "fig, ax = plt.subplots(figsize=(8, 5))\n",
    "\n",
    "# Crear las barras\n",
    "bars = ax.bar(bar_labels, bar_values, color=['blue', 'green', 'yellow'])\n",
    "\n",
    "# Crear la línea\n",
    "ax.plot(bar_labels, line_values, color='black', marker='o', linestyle='-', linewidth=2, markersize=8, label=\"Precisión acumulada\")\n",
    "\n",
    "# Etiquetas y título\n",
    "ax.set_ylabel(\"Precisión (%)\")\n",
    "#ax.set_title(\"Gráfico de barras con línea de transición\")\n",
    "ax.set_ylim(0, 1.2)  # Límite entre 0 y 100% (1 equivale a 100%)\n",
    "\n",
    "# Agregar valores encima de cada barra\n",
    "for i, v in enumerate(bar_values):\n",
    "    ax.text(i, v + 0.05, f\"{v * 100:.2f}%\", ha=\"center\", fontsize=10)\n",
    "\n",
    "for i, v in enumerate(line_values):\n",
    "    ax.text(i, v - 0.15, f\"{v * 100:.2f}%\", ha=\"center\", fontsize=12, color='red')\n",
    "\n",
    "# Agregar la leyenda\n",
    "ax.legend()\n",
    "\n",
    "# Mostrar gráfico\n",
    "plt.show()"
   ]
  },
  {
   "cell_type": "code",
   "execution_count": 171,
   "metadata": {},
   "outputs": [
    {
     "name": "stderr",
     "output_type": "stream",
     "text": [
      "C:\\Users\\Pedro\\AppData\\Local\\Temp\\ipykernel_15188\\1879950908.py:16: FutureWarning: \n",
      "\n",
      "Passing `palette` without assigning `hue` is deprecated and will be removed in v0.14.0. Assign the `x` variable to `hue` and set `legend=False` for the same effect.\n",
      "\n",
      "  sns.barplot(x=bar_labels, y=bar_values, palette='cubehelix', ax=ax)\n"
     ]
    },
    {
     "data": {
      "text/plain": [
       "<matplotlib.legend.Legend at 0x19f8a7f6ba0>"
      ]
     },
     "execution_count": 171,
     "metadata": {},
     "output_type": "execute_result"
    },
    {
     "data": {
      "image/png": "[encoded data removed]",
      "text/plain": [
       "<Figure size 800x500 with 1 Axes>"
      ]
     },
     "metadata": {},
     "output_type": "display_data"
    }
   ],
   "source": [
    "import matplotlib.pyplot as plt\n",
    "import seaborn as sns\n",
    "import numpy as np\n",
    "\n",
    "# Valores para las barras\n",
    "bar_values = [0.98, 0.57, 0.88]  # Los valores de las barras en porcentaje (98%, 57%, 85%)\n",
    "bar_labels = ['Voz-Ruido', 'Clasificación Idioma', 'Speech-to-Text']\n",
    "\n",
    "# Valores para la línea\n",
    "line_values = [0.98, 0.5586, 0.4916]  # Los valores de la línea en porcentaje (98%, 55.86%, 47.48%)\n",
    "\n",
    "# Crear gráfico\n",
    "fig, ax = plt.subplots(figsize=(8, 5))\n",
    "\n",
    "# Crear las barras con seaborn\n",
    "sns.barplot(x=bar_labels, y=bar_values, palette='cubehelix', ax=ax)\n",
    "\n",
    "# Crear la línea\n",
    "ax.plot(bar_labels, line_values, color='#090d69', marker='o', linestyle='-', linewidth=2, markersize=8, label=\"Precisión acumulada\")\n",
    "\n",
    "# Etiquetas y título\n",
    "ax.set_ylabel(\"Valor (%)\")\n",
    "#ax.set_title(\"Gráfico de barras con línea de transición\")\n",
    "ax.set_ylim(0, 1.1)  # Límite entre 0 y 100% (1 equivale a 100%)\n",
    "\n",
    "# Agregar valores encima de cada barra\n",
    "for i, v in enumerate(bar_values):\n",
    "    ax.text(i, v + 0.07, f\"{v * 100:.2f}%\", ha=\"center\", fontsize=10, )\n",
    "\n",
    "# Agregar valores debajo de los puntos de la línea\n",
    "for i, v in enumerate(line_values):\n",
    "    #if i == 0:\n",
    "    #    continue\n",
    "    ax.text(i, v - 0.1, f\"{v * 100:.2f}%\", ha=\"center\", fontsize=12, color='#090d69')\n",
    "\n",
    "# Agregar la leyenda\n",
    "ax.legend()"
   ]
  },
  {
   "cell_type": "code",
   "execution_count": null,
   "metadata": {},
   "outputs": [],
   "source": []
  }
 ],
 "metadata": {
  "colab": {
   "authorship_tag": "ABX9TyP+BN7WF4n2GhVLc7vaybyA",
   "provenance": []
  },
  "kernelspec": {
   "display_name": "myenv",
   "language": "python",
   "name": "python3"
  },
  "language_info": {
   "codemirror_mode": {
    "name": "ipython",
    "version": 3
   },
   "file_extension": ".py",
   "mimetype": "text/x-python",
   "name": "python",
   "nbconvert_exporter": "python",
   "pygments_lexer": "ipython3",
   "version": "3.12.9"
  }
 },
 "nbformat": 4,
 "nbformat_minor": 0
}
